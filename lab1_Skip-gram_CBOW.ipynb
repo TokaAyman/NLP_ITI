{
  "nbformat": 4,
  "nbformat_minor": 0,
  "metadata": {
    "colab": {
      "provenance": [],
      "authorship_tag": "ABX9TyPVcihfAadxoVv0KyXC6xZu",
      "include_colab_link": true
    },
    "kernelspec": {
      "name": "python3",
      "display_name": "Python 3"
    },
    "language_info": {
      "name": "python"
    }
  },
  "cells": [
    {
      "cell_type": "markdown",
      "metadata": {
        "id": "view-in-github",
        "colab_type": "text"
      },
      "source": [
        "<a href=\"https://colab.research.google.com/github/TokaAyman/NLP_ITI/blob/main/lab1_Skip-gram_CBOW.ipynb\" target=\"_parent\"><img src=\"https://colab.research.google.com/assets/colab-badge.svg\" alt=\"Open In Colab\"/></a>"
      ]
    },
    {
      "cell_type": "code",
      "source": [
        "# prompt: downgrade numpy\n",
        "\n",
        "!pip install numpy==1.21.0\n",
        "import numpy as np\n",
        "np.__version__\n"
      ],
      "metadata": {
        "colab": {
          "base_uri": "https://localhost:8080/",
          "height": 368
        },
        "id": "LvbZnyd5Xk-p",
        "outputId": "eb242b54-69ff-44f4-b8a3-c4dcec81fb8a"
      },
      "execution_count": 2,
      "outputs": [
        {
          "output_type": "stream",
          "name": "stdout",
          "text": [
            "Collecting numpy==1.21.0\n",
            "  Downloading numpy-1.21.0.zip (10.3 MB)\n",
            "\u001b[2K     \u001b[90m━━━━━━━━━━━━━━━━━━━━━━━━━━━━━━━━━━━━━━━━\u001b[0m \u001b[32m10.3/10.3 MB\u001b[0m \u001b[31m61.4 MB/s\u001b[0m eta \u001b[36m0:00:00\u001b[0m\n",
            "\u001b[?25h  Installing build dependencies ... \u001b[?25l\u001b[?25hdone\n",
            "  Getting requirements to build wheel ... \u001b[?25l\u001b[?25hdone\n",
            "  Preparing metadata (pyproject.toml) ... \u001b[?25l\u001b[?25hdone\n",
            "Building wheels for collected packages: numpy\n",
            "  \u001b[1;31merror\u001b[0m: \u001b[1msubprocess-exited-with-error\u001b[0m\n",
            "  \n",
            "  \u001b[31m×\u001b[0m \u001b[32mBuilding wheel for numpy \u001b[0m\u001b[1;32m(\u001b[0m\u001b[32mpyproject.toml\u001b[0m\u001b[1;32m)\u001b[0m did not run successfully.\n",
            "  \u001b[31m│\u001b[0m exit code: \u001b[1;36m1\u001b[0m\n",
            "  \u001b[31m╰─>\u001b[0m See above for output.\n",
            "  \n",
            "  \u001b[1;35mnote\u001b[0m: This error originates from a subprocess, and is likely not a problem with pip.\n",
            "  Building wheel for numpy (pyproject.toml) ... \u001b[?25l\u001b[?25herror\n",
            "\u001b[31m  ERROR: Failed building wheel for numpy\u001b[0m\u001b[31m\n",
            "\u001b[0mFailed to build numpy\n",
            "\u001b[31mERROR: ERROR: Failed to build installable wheels for some pyproject.toml based projects (numpy)\u001b[0m\u001b[31m\n",
            "\u001b[0m"
          ]
        },
        {
          "output_type": "execute_result",
          "data": {
            "text/plain": [
              "'1.26.4'"
            ],
            "application/vnd.google.colaboratory.intrinsic+json": {
              "type": "string"
            }
          },
          "metadata": {},
          "execution_count": 2
        }
      ]
    },
    {
      "cell_type": "code",
      "source": [
        "!pip install gensim"
      ],
      "metadata": {
        "colab": {
          "base_uri": "https://localhost:8080/"
        },
        "id": "gy6YTFSWWRNj",
        "outputId": "8e50d44b-d488-4616-bda4-b34a7d4a415d"
      },
      "execution_count": 2,
      "outputs": [
        {
          "output_type": "stream",
          "name": "stdout",
          "text": [
            "Requirement already satisfied: gensim in /usr/local/lib/python3.11/dist-packages (4.3.3)\n",
            "Requirement already satisfied: numpy<2.0,>=1.18.5 in /usr/local/lib/python3.11/dist-packages (from gensim) (1.26.4)\n",
            "Requirement already satisfied: scipy<1.14.0,>=1.7.0 in /usr/local/lib/python3.11/dist-packages (from gensim) (1.13.1)\n",
            "Requirement already satisfied: smart-open>=1.8.1 in /usr/local/lib/python3.11/dist-packages (from gensim) (7.1.0)\n",
            "Requirement already satisfied: wrapt in /usr/local/lib/python3.11/dist-packages (from smart-open>=1.8.1->gensim) (1.17.2)\n"
          ]
        }
      ]
    },
    {
      "cell_type": "code",
      "source": [
        "import tensorflow as tf\n",
        "from tensorflow.keras.layers import Dense, Embedding, Lambda\n",
        "from tensorflow.keras.preprocessing.text import Tokenizer\n",
        "from tensorflow.keras.utils import to_categorical\n",
        "import numpy as np\n",
        "import matplotlib as plt\n",
        "from sklearn.decomposition import PCA\n",
        "import gensim"
      ],
      "metadata": {
        "id": "GSITDmRiVo3z"
      },
      "execution_count": 1,
      "outputs": []
    },
    {
      "cell_type": "code",
      "source": [
        "import gensim.downloader as api\n"
      ],
      "metadata": {
        "id": "oOgvwmL5Yw-W"
      },
      "execution_count": 3,
      "outputs": []
    },
    {
      "cell_type": "code",
      "source": [
        "model = api.load(\"glove-wiki-gigaword-100\")"
      ],
      "metadata": {
        "colab": {
          "base_uri": "https://localhost:8080/"
        },
        "id": "jOv5TlDlVsQr",
        "outputId": "aad095e9-29e6-497a-8528-9e15c795ff2a"
      },
      "execution_count": 4,
      "outputs": [
        {
          "output_type": "stream",
          "name": "stdout",
          "text": [
            "[==================================================] 100.0% 128.1/128.1MB downloaded\n"
          ]
        }
      ]
    },
    {
      "cell_type": "markdown",
      "source": [
        "#skip gram"
      ],
      "metadata": {
        "id": "T43toFGkZE1C"
      }
    },
    {
      "cell_type": "code",
      "source": [
        "model.most_similar(\"cat\")"
      ],
      "metadata": {
        "colab": {
          "base_uri": "https://localhost:8080/"
        },
        "id": "lxcWGpJtWafs",
        "outputId": "8e872b00-ee1e-4832-f76e-f1d068f7b45d"
      },
      "execution_count": 5,
      "outputs": [
        {
          "output_type": "execute_result",
          "data": {
            "text/plain": [
              "[('dog', 0.8798074722290039),\n",
              " ('rabbit', 0.7424427270889282),\n",
              " ('cats', 0.732300341129303),\n",
              " ('monkey', 0.7288709878921509),\n",
              " ('pet', 0.719014048576355),\n",
              " ('dogs', 0.7163872718811035),\n",
              " ('mouse', 0.6915250420570374),\n",
              " ('puppy', 0.6800068020820618),\n",
              " ('rat', 0.6641027331352234),\n",
              " ('spider', 0.6501135230064392)]"
            ]
          },
          "metadata": {},
          "execution_count": 5
        }
      ]
    },
    {
      "cell_type": "markdown",
      "source": [
        "#CBOW"
      ],
      "metadata": {
        "id": "GKXnasGVerSE"
      }
    },
    {
      "cell_type": "code",
      "source": [
        "new_list = [\"the\",\"cat\",\"on\",\"the\",\"mat\"]\n",
        "vectors = [model[word] for word in new_list]"
      ],
      "metadata": {
        "id": "Oh-KjLVhZDsL"
      },
      "execution_count": 17,
      "outputs": []
    },
    {
      "cell_type": "code",
      "source": [
        "average = np.mean(vectors,axis=0)"
      ],
      "metadata": {
        "id": "kT_4dt8abuk6"
      },
      "execution_count": 18,
      "outputs": []
    },
    {
      "cell_type": "code",
      "source": [
        "average"
      ],
      "metadata": {
        "colab": {
          "base_uri": "https://localhost:8080/"
        },
        "id": "qRUb1T_KcKKa",
        "outputId": "06f9d598-3a8a-4970-b75e-521d64557772"
      },
      "execution_count": 19,
      "outputs": [
        {
          "output_type": "execute_result",
          "data": {
            "text/plain": [
              "array([-0.1823336 , -0.03877601,  0.497272  , -0.51646394, -0.0361852 ,\n",
              "        0.1671312 , -0.283852  ,  0.295098  , -0.34669062, -0.13622722,\n",
              "        0.174348  ,  0.0315588 ,  0.306498  , -0.0848472 ,  0.312414  ,\n",
              "        0.06947159,  0.330026  , -0.0795268 , -0.141844  , -0.390598  ,\n",
              "        0.32354802, -0.10164   ,  0.3153162 , -0.0277576 ,  0.57258195,\n",
              "        0.20188561, -0.1498538 , -0.465244  , -0.20643201,  0.096163  ,\n",
              "       -0.2019588 ,  0.19711033,  0.1734934 ,  0.409774  , -0.128722  ,\n",
              "        0.2918912 , -0.0491518 ,  0.62079996,  0.10040979, -0.26713723,\n",
              "       -0.418866  , -0.12670219,  0.20027599, -0.209614  , -0.018974  ,\n",
              "        0.276552  , -0.203232  , -0.08054201, -0.09707692, -0.3280787 ,\n",
              "       -0.2315168 ,  0.21629801,  0.21173401,  1.04661   , -0.606808  ,\n",
              "       -2.14513   , -0.021059  , -0.18166998,  1.580912  ,  0.400218  ,\n",
              "       -0.03324199,  0.7692418 , -0.08060841,  0.42476803,  0.806396  ,\n",
              "        0.15714799,  0.11331079,  0.147294  , -0.02269719, -0.100211  ,\n",
              "       -0.2646592 , -0.044986  , -0.09384949, -0.30818802,  0.0742358 ,\n",
              "        0.1311838 , -0.3364724 , -0.0585582 , -0.6504359 ,  0.2249244 ,\n",
              "        0.39829597, -0.0732034 , -0.110572  ,  0.06449161, -0.937259  ,\n",
              "       -0.357392  , -0.0615042 , -0.05668861,  0.14935999,  0.02837001,\n",
              "        0.05624   , -0.1131276 , -0.19486001,  0.5700556 , -0.272502  ,\n",
              "       -0.22323999, -0.36239603, -0.203796  ,  0.750074  , -0.0184874 ],\n",
              "      dtype=float32)"
            ]
          },
          "metadata": {},
          "execution_count": 19
        }
      ]
    },
    {
      "cell_type": "code",
      "source": [
        "result = model.similar_by_vector(average, topn=1)"
      ],
      "metadata": {
        "id": "ckBeaFFpb1rd"
      },
      "execution_count": 25,
      "outputs": []
    },
    {
      "cell_type": "code",
      "source": [
        "result"
      ],
      "metadata": {
        "colab": {
          "base_uri": "https://localhost:8080/"
        },
        "id": "RuBIzQEqcHt2",
        "outputId": "a7e6dd22-5344-4ba9-a953-9eee5f564cbe"
      },
      "execution_count": 26,
      "outputs": [
        {
          "output_type": "execute_result",
          "data": {
            "text/plain": [
              "[('the', 0.9126800894737244)]"
            ]
          },
          "metadata": {},
          "execution_count": 26
        }
      ]
    },
    {
      "cell_type": "code",
      "source": [
        "model.most_similar(average, topn=1)"
      ],
      "metadata": {
        "colab": {
          "base_uri": "https://localhost:8080/"
        },
        "id": "3wb_KQXRdjTP",
        "outputId": "3412cc4a-436c-402f-ca20-4511075816bc"
      },
      "execution_count": 27,
      "outputs": [
        {
          "output_type": "execute_result",
          "data": {
            "text/plain": [
              "[('the', 0.9126800894737244)]"
            ]
          },
          "metadata": {},
          "execution_count": 27
        }
      ]
    },
    {
      "cell_type": "markdown",
      "source": [
        "it by default returns the top 10 most similar words to the given vector"
      ],
      "metadata": {
        "id": "qxHv__ryeoyk"
      }
    },
    {
      "cell_type": "code",
      "source": [
        "model.most_similar(average)"
      ],
      "metadata": {
        "colab": {
          "base_uri": "https://localhost:8080/"
        },
        "id": "5Lp-tSMsd0Bk",
        "outputId": "d78c6293-78ac-43a8-e95e-243183126cbb"
      },
      "execution_count": 28,
      "outputs": [
        {
          "output_type": "execute_result",
          "data": {
            "text/plain": [
              "[('the', 0.9126800894737244),\n",
              " ('on', 0.8778414726257324),\n",
              " ('one', 0.8382169008255005),\n",
              " ('this', 0.8178699016571045),\n",
              " ('out', 0.8095105886459351),\n",
              " ('same', 0.8089117407798767),\n",
              " ('as', 0.8066169619560242),\n",
              " ('.', 0.7976172566413879),\n",
              " ('it', 0.7951029539108276),\n",
              " ('over', 0.7947723269462585)]"
            ]
          },
          "metadata": {},
          "execution_count": 28
        }
      ]
    },
    {
      "cell_type": "code",
      "source": [],
      "metadata": {
        "id": "ponYpCmGehdQ"
      },
      "execution_count": null,
      "outputs": []
    }
  ]
}